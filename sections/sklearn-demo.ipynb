{
 "cells": [
  {
   "cell_type": "code",
   "execution_count": 57,
   "metadata": {
    "collapsed": false
   },
   "outputs": [],
   "source": [
    "import pandas as pd\n",
    "import numpy as np\n",
    "import matplotlib.pyplot as plt\n",
    "% matplotlib inline\n",
    "from sklearn.cross_validation import train_test_split\n",
    "from sklearn.linear_model import LinearRegression\n",
    "from sklearn.model_selection import cross_val_score\n",
    "from sklearn.metrics import mean_squared_error\n",
    "import warnings\n",
    "warnings.filterwarnings(\"ignore\")"
   ]
  },
  {
   "cell_type": "code",
   "execution_count": 22,
   "metadata": {
    "collapsed": false
   },
   "outputs": [
    {
     "data": {
      "text/html": [
       "<div>\n",
       "<table border=\"1\" class=\"dataframe\">\n",
       "  <thead>\n",
       "    <tr style=\"text-align: right;\">\n",
       "      <th></th>\n",
       "      <th>toxicity</th>\n",
       "      <th>logKow</th>\n",
       "      <th>pKa</th>\n",
       "      <th>ELUMO</th>\n",
       "      <th>Ecarb</th>\n",
       "      <th>Emet</th>\n",
       "      <th>RM</th>\n",
       "      <th>IR</th>\n",
       "      <th>Ts</th>\n",
       "      <th>P</th>\n",
       "    </tr>\n",
       "  </thead>\n",
       "  <tbody>\n",
       "    <tr>\n",
       "      <th>0</th>\n",
       "      <td>-0.15</td>\n",
       "      <td>1.68</td>\n",
       "      <td>1.00</td>\n",
       "      <td>4.81</td>\n",
       "      <td>17.8635</td>\n",
       "      <td>1.4838</td>\n",
       "      <td>31.36</td>\n",
       "      <td>1.425</td>\n",
       "      <td>31.3</td>\n",
       "      <td>12.43</td>\n",
       "    </tr>\n",
       "    <tr>\n",
       "      <th>1</th>\n",
       "      <td>-0.33</td>\n",
       "      <td>0.94</td>\n",
       "      <td>0.98</td>\n",
       "      <td>4.68</td>\n",
       "      <td>16.9491</td>\n",
       "      <td>0.0000</td>\n",
       "      <td>22.10</td>\n",
       "      <td>1.408</td>\n",
       "      <td>30.4</td>\n",
       "      <td>8.76</td>\n",
       "    </tr>\n",
       "    <tr>\n",
       "      <th>2</th>\n",
       "      <td>-0.34</td>\n",
       "      <td>1.16</td>\n",
       "      <td>0.96</td>\n",
       "      <td>4.86</td>\n",
       "      <td>17.1806</td>\n",
       "      <td>0.2778</td>\n",
       "      <td>26.73</td>\n",
       "      <td>1.418</td>\n",
       "      <td>30.9</td>\n",
       "      <td>10.59</td>\n",
       "    </tr>\n",
       "    <tr>\n",
       "      <th>3</th>\n",
       "      <td>0.03</td>\n",
       "      <td>2.75</td>\n",
       "      <td>1.00</td>\n",
       "      <td>4.83</td>\n",
       "      <td>18.4794</td>\n",
       "      <td>3.5836</td>\n",
       "      <td>40.63</td>\n",
       "      <td>1.435</td>\n",
       "      <td>31.8</td>\n",
       "      <td>16.10</td>\n",
       "    </tr>\n",
       "    <tr>\n",
       "      <th>4</th>\n",
       "      <td>-0.57</td>\n",
       "      <td>0.79</td>\n",
       "      <td>0.97</td>\n",
       "      <td>4.80</td>\n",
       "      <td>16.8022</td>\n",
       "      <td>1.0232</td>\n",
       "      <td>22.14</td>\n",
       "      <td>1.411</td>\n",
       "      <td>32.5</td>\n",
       "      <td>8.77</td>\n",
       "    </tr>\n",
       "  </tbody>\n",
       "</table>\n",
       "</div>"
      ],
      "text/plain": [
       "   toxicity  logKow   pKa  ELUMO    Ecarb    Emet     RM     IR    Ts      P\n",
       "0     -0.15    1.68  1.00   4.81  17.8635  1.4838  31.36  1.425  31.3  12.43\n",
       "1     -0.33    0.94  0.98   4.68  16.9491  0.0000  22.10  1.408  30.4   8.76\n",
       "2     -0.34    1.16  0.96   4.86  17.1806  0.2778  26.73  1.418  30.9  10.59\n",
       "3      0.03    2.75  1.00   4.83  18.4794  3.5836  40.63  1.435  31.8  16.10\n",
       "4     -0.57    0.79  0.97   4.80  16.8022  1.0232  22.14  1.411  32.5   8.77"
      ]
     },
     "execution_count": 22,
     "metadata": {},
     "output_type": "execute_result"
    }
   ],
   "source": [
    "data = pd.read_csv(\"toxicity.csv\")\n",
    "data.head()"
   ]
  },
  {
   "cell_type": "code",
   "execution_count": 67,
   "metadata": {
    "collapsed": false
   },
   "outputs": [
    {
     "data": {
      "text/plain": [
       "<matplotlib.text.Text at 0x116b16650>"
      ]
     },
     "execution_count": 67,
     "metadata": {},
     "output_type": "execute_result"
    },
    {
     "data": {
      "image/png": "[encoded data removed]",
      "text/plain": [
       "<matplotlib.figure.Figure at 0x1169314d0>"
      ]
     },
     "metadata": {},
     "output_type": "display_data"
    }
   ],
   "source": [
    "# exploratory analysis: plot toxicity vs. logKow\n",
    "plt.scatter(data[\"logKow\"],data[\"toxicity\"])\n",
    "plt.xlabel(\"logKow\")\n",
    "plt.ylabel(\"toxicity\")"
   ]
  },
  {
   "cell_type": "code",
   "execution_count": 30,
   "metadata": {
    "collapsed": false
   },
   "outputs": [],
   "source": [
    "# randomly split the dataset into a training and test set\n",
    "# (note: you will be given a separate test set in Kaggle, but \n",
    "# this might be useful to keep a separate validation set \n",
    "# for model selection purposes)\n",
    "train, test = train_test_split(data, train_size=.7)\n",
    "ytrain = train[\"toxicity\"]\n",
    "Xtrain = train.drop(\"toxicity\", axis=1)\n",
    "ytest = test[\"toxicity\"]\n",
    "Xtest = test.drop(\"toxicity\", axis=1)"
   ]
  },
  {
   "cell_type": "code",
   "execution_count": 38,
   "metadata": {
    "collapsed": false
   },
   "outputs": [
    {
     "name": "stdout",
     "output_type": "stream",
     "text": [
      "[-0.22688162 -0.05394596 -0.06781445 -0.03159319 -0.71958351]\n"
     ]
    }
   ],
   "source": [
    "clf = LinearRegression()\n",
    "# fit the model using the training set\n",
    "clf.fit(Xtrain, ytrain)\n",
    "# get the mean squared error for 5 fold cross validation\n",
    "# note that sklearn flips the sign for MSE so that greater is better\n",
    "print cross_val_score(clf, Xtrain, ytrain, cv=5, scoring=\"mean_squared_error\")"
   ]
  },
  {
   "cell_type": "code",
   "execution_count": 55,
   "metadata": {
    "collapsed": false
   },
   "outputs": [
    {
     "name": "stdout",
     "output_type": "stream",
     "text": [
      "0.0780699014988\n"
     ]
    }
   ],
   "source": [
    "# use the model to predict the y values for the test set\n",
    "ypred = clf.predict(Xtest)\n",
    "print mean_squared_error(ypred, ytest)"
   ]
  },
  {
   "cell_type": "code",
   "execution_count": 50,
   "metadata": {
    "collapsed": false
   },
   "outputs": [],
   "source": [
    "# output the predictions to a csv to submit to Kaggle\n",
    "np.savetxt(\"preds.csv\", ypred, header=\"predictions\")"
   ]
  }
 ],
 "metadata": {
  "kernelspec": {
   "display_name": "Python 2",
   "language": "python",
   "name": "python2"
  },
  "language_info": {
   "codemirror_mode": {
    "name": "ipython",
    "version": 2
   },
   "file_extension": ".py",
   "mimetype": "text/x-python",
   "name": "python",
   "nbconvert_exporter": "python",
   "pygments_lexer": "ipython2",
   "version": "2.7.11"
  }
 },
 "nbformat": 4,
 "nbformat_minor": 0
}
